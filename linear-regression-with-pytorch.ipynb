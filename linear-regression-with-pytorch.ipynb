{
 "cells": [
  {
   "cell_type": "markdown",
   "metadata": {},
   "source": [
    "# Linear Regression with PyTorch"
   ]
  },
  {
   "cell_type": "code",
   "execution_count": 1,
   "metadata": {},
   "outputs": [
    {
     "name": "stdout",
     "output_type": "stream",
     "text": [
      "Requirement already satisfied: torch in /Users/drew/.pyenv/versions/3.8.13/lib/python3.8/site-packages (2.0.0)\n",
      "Requirement already satisfied: filelock in /Users/drew/.pyenv/versions/3.8.13/lib/python3.8/site-packages (from torch) (3.10.7)\n",
      "Requirement already satisfied: typing-extensions in /Users/drew/.pyenv/versions/3.8.13/lib/python3.8/site-packages (from torch) (4.4.0)\n",
      "Requirement already satisfied: sympy in /Users/drew/.pyenv/versions/3.8.13/lib/python3.8/site-packages (from torch) (1.11.1)\n",
      "Requirement already satisfied: networkx in /Users/drew/.pyenv/versions/3.8.13/lib/python3.8/site-packages (from torch) (3.0)\n",
      "Requirement already satisfied: jinja2 in /Users/drew/.pyenv/versions/3.8.13/lib/python3.8/site-packages (from torch) (3.1.2)\n",
      "Requirement already satisfied: MarkupSafe>=2.0 in /Users/drew/.pyenv/versions/3.8.13/lib/python3.8/site-packages (from jinja2->torch) (2.1.1)\n",
      "Requirement already satisfied: mpmath>=0.19 in /Users/drew/.pyenv/versions/3.8.13/lib/python3.8/site-packages (from sympy->torch) (1.3.0)\n",
      "Note: you may need to restart the kernel to use updated packages.\n",
      "Requirement already satisfied: matplotlib in /Users/drew/.pyenv/versions/3.8.13/lib/python3.8/site-packages (3.7.1)\n",
      "Requirement already satisfied: contourpy>=1.0.1 in /Users/drew/.pyenv/versions/3.8.13/lib/python3.8/site-packages (from matplotlib) (1.0.7)\n",
      "Requirement already satisfied: cycler>=0.10 in /Users/drew/.pyenv/versions/3.8.13/lib/python3.8/site-packages (from matplotlib) (0.11.0)\n",
      "Requirement already satisfied: fonttools>=4.22.0 in /Users/drew/.pyenv/versions/3.8.13/lib/python3.8/site-packages (from matplotlib) (4.39.3)\n",
      "Requirement already satisfied: kiwisolver>=1.0.1 in /Users/drew/.pyenv/versions/3.8.13/lib/python3.8/site-packages (from matplotlib) (1.4.4)\n",
      "Requirement already satisfied: numpy>=1.20 in /Users/drew/.pyenv/versions/3.8.13/lib/python3.8/site-packages (from matplotlib) (1.21.0)\n",
      "Requirement already satisfied: packaging>=20.0 in /Users/drew/.pyenv/versions/3.8.13/lib/python3.8/site-packages (from matplotlib) (21.3)\n",
      "Requirement already satisfied: pillow>=6.2.0 in /Users/drew/.pyenv/versions/3.8.13/lib/python3.8/site-packages (from matplotlib) (9.2.0)\n",
      "Requirement already satisfied: pyparsing>=2.3.1 in /Users/drew/.pyenv/versions/3.8.13/lib/python3.8/site-packages (from matplotlib) (3.0.9)\n",
      "Requirement already satisfied: python-dateutil>=2.7 in /Users/drew/.pyenv/versions/3.8.13/lib/python3.8/site-packages (from matplotlib) (2.8.2)\n",
      "Requirement already satisfied: importlib-resources>=3.2.0 in /Users/drew/.pyenv/versions/3.8.13/lib/python3.8/site-packages (from matplotlib) (5.12.0)\n",
      "Requirement already satisfied: zipp>=3.1.0 in /Users/drew/.pyenv/versions/3.8.13/lib/python3.8/site-packages (from importlib-resources>=3.2.0->matplotlib) (3.11.0)\n",
      "Requirement already satisfied: six>=1.5 in /Users/drew/.pyenv/versions/3.8.13/lib/python3.8/site-packages (from python-dateutil>=2.7->matplotlib) (1.16.0)\n",
      "Note: you may need to restart the kernel to use updated packages.\n"
     ]
    }
   ],
   "source": [
    "# Installation\n",
    "%pip install torch\n",
    "%pip install matplotlib\n",
    "\n",
    "# Imports\n",
    "import torch\n",
    "from torch.nn import Linear\n",
    "import torch.nn as nn\n",
    "import matplotlib.pyplot as plt\n",
    "import numpy as np"
   ]
  },
  {
   "cell_type": "markdown",
   "metadata": {},
   "source": [
    "## Simple Linear Prediction"
   ]
  },
  {
   "cell_type": "code",
   "execution_count": 2,
   "metadata": {},
   "outputs": [],
   "source": [
    "# Variables\n",
    "w = torch.tensor(3.0, requires_grad=True)\n",
    "b = torch.tensor(1.0, requires_grad=True)"
   ]
  },
  {
   "cell_type": "code",
   "execution_count": 3,
   "metadata": {},
   "outputs": [],
   "source": [
    "# Forward Function\n",
    "def forward(x):\n",
    "\ty = w * x + b\n",
    "\treturn y"
   ]
  },
  {
   "cell_type": "code",
   "execution_count": 4,
   "metadata": {},
   "outputs": [
    {
     "data": {
      "text/plain": [
       "tensor([ 7., 10., 13.], grad_fn=<AddBackward0>)"
      ]
     },
     "execution_count": 4,
     "metadata": {},
     "output_type": "execute_result"
    }
   ],
   "source": [
    "# Single Value\n",
    "x = torch.tensor(2)\n",
    "\n",
    "# Multiple Values\n",
    "x = torch.tensor([2, 3, 4])\n",
    "\n",
    "# Make a Prediction\n",
    "forward(x)"
   ]
  },
  {
   "cell_type": "markdown",
   "metadata": {},
   "source": [
    "## Simple Linear Regression with Linear PyTorch Class"
   ]
  },
  {
   "cell_type": "code",
   "execution_count": 5,
   "metadata": {},
   "outputs": [
    {
     "name": "stdout",
     "output_type": "stream",
     "text": [
      "Parameter containing:\n",
      "tensor([-0.4414], requires_grad=True) Parameter containing:\n",
      "tensor([[0.5153]], requires_grad=True)\n"
     ]
    }
   ],
   "source": [
    "# Set the Seed\n",
    "torch.manual_seed(1)\n",
    "\n",
    "# Create a Model\n",
    "model = Linear(in_features=1, out_features=1)\n",
    "\n",
    "# Print the Parameters\n",
    "print(model.bias, model.weight)"
   ]
  },
  {
   "cell_type": "code",
   "execution_count": 6,
   "metadata": {},
   "outputs": [
    {
     "data": {
      "text/plain": [
       "tensor([0.5891], grad_fn=<AddBackward0>)"
      ]
     },
     "execution_count": 6,
     "metadata": {},
     "output_type": "execute_result"
    }
   ],
   "source": [
    "# Make a prediction\n",
    "x = torch.tensor([2.0])\n",
    "model(x)"
   ]
  },
  {
   "cell_type": "markdown",
   "metadata": {},
   "source": [
    "## Custom Module"
   ]
  },
  {
   "cell_type": "code",
   "execution_count": 7,
   "metadata": {},
   "outputs": [],
   "source": [
    "# Linear Regression Model Class\n",
    "class LinearRegression(nn.Module):\n",
    "\tdef __init__(self, input_dim, output_dim):\n",
    "\t\tsuper().__init__()\n",
    "\t\tself.linear = nn.Linear(input_dim, output_dim)\n",
    "\tdef forward(self, x):\n",
    "\t\tpred = self.linear(x)\n",
    "\t\treturn pred"
   ]
  },
  {
   "cell_type": "code",
   "execution_count": 8,
   "metadata": {},
   "outputs": [],
   "source": [
    "# Define linear regression model using custom linear regression class\n",
    "linear_regression_model = LinearRegression(1, 1)"
   ]
  },
  {
   "cell_type": "code",
   "execution_count": 9,
   "metadata": {},
   "outputs": [
    {
     "data": {
      "text/plain": [
       "[Parameter containing:\n",
       " tensor([[-0.1939]], requires_grad=True),\n",
       " Parameter containing:\n",
       " tensor([0.4694], requires_grad=True)]"
      ]
     },
     "execution_count": 9,
     "metadata": {},
     "output_type": "execute_result"
    }
   ],
   "source": [
    "# Get model parameters\n",
    "list(linear_regression_model.parameters())"
   ]
  },
  {
   "cell_type": "code",
   "execution_count": 10,
   "metadata": {},
   "outputs": [
    {
     "data": {
      "text/plain": [
       "tensor([0.2755], grad_fn=<AddBackward0>)"
      ]
     },
     "execution_count": 10,
     "metadata": {},
     "output_type": "execute_result"
    }
   ],
   "source": [
    "# Make a prediction\n",
    "linear_regression_model.forward(torch.tensor([1.0]))"
   ]
  },
  {
   "cell_type": "markdown",
   "metadata": {},
   "source": [
    "## Creating a Dataset"
   ]
  },
  {
   "cell_type": "code",
   "execution_count": 11,
   "metadata": {},
   "outputs": [],
   "source": [
    "# Generate random data centered around 10 with noise\n",
    "X = torch.randn(100, 1) * 10\n",
    "y = X + torch.randn(100, 1) * 3"
   ]
  },
  {
   "cell_type": "code",
   "execution_count": 12,
   "metadata": {},
   "outputs": [
    {
     "data": {
      "text/plain": [
       "Text(0.5, 0, 'X')"
      ]
     },
     "execution_count": 12,
     "metadata": {},
     "output_type": "execute_result"
    },
    {
     "data": {
      "image/png": "[encoded data removed]",
      "text/plain": [
       "<Figure size 640x480 with 1 Axes>"
      ]
     },
     "metadata": {},
     "output_type": "display_data"
    }
   ],
   "source": [
    "# Plot the dataset\n",
    "plt.plot(X.numpy(), y.numpy(), 'o')\n",
    "\n",
    "# Add lables\n",
    "plt.ylabel('y')\n",
    "plt.xlabel('X')"
   ]
  },
  {
   "cell_type": "markdown",
   "metadata": {},
   "source": [
    "## Training the Model to Fit the Data"
   ]
  },
  {
   "cell_type": "code",
   "execution_count": 13,
   "metadata": {},
   "outputs": [],
   "source": [
    "# Get model parameters\n",
    "[w, b] = linear_regression_model.parameters()\n",
    "\n",
    "# Helper function to get the parameters\n",
    "def get_params():\n",
    "\treturn (w[0][0].item(), b[0].item())"
   ]
  },
  {
   "cell_type": "code",
   "execution_count": 14,
   "metadata": {},
   "outputs": [],
   "source": [
    "# Helper function to plot the fit\n",
    "def plot_fit(title):\n",
    "\tplt.title = title\n",
    "\tw1, b1 = get_params()\n",
    "\tx1 = np.array([-30, 30])\n",
    "\ty1 = w1 * x1 + b1\n",
    "\tplt.plot(x1, y1, 'r')\n",
    "\tplt.scatter(X, y)\n",
    "\tplt.show()"
   ]
  },
  {
   "cell_type": "code",
   "execution_count": 15,
   "metadata": {},
   "outputs": [
    {
     "data": {
      "image/png": "[encoded data removed]",
      "text/plain": [
       "<Figure size 640x480 with 1 Axes>"
      ]
     },
     "metadata": {},
     "output_type": "display_data"
    }
   ],
   "source": [
    "# Plot the initial model\n",
    "plot_fit('Initial Model')"
   ]
  },
  {
   "cell_type": "code",
   "execution_count": 16,
   "metadata": {},
   "outputs": [
    {
     "name": "stdout",
     "output_type": "stream",
     "text": [
      "epoch: 0 loss: 170.33042907714844\n",
      "epoch: 1 loss: 282.6071472167969\n",
      "epoch: 2 loss: 473.1928405761719\n",
      "epoch: 3 loss: 796.7025146484375\n",
      "epoch: 4 loss: 1345.840576171875\n",
      "epoch: 5 loss: 2277.966552734375\n",
      "epoch: 6 loss: 3860.183837890625\n",
      "epoch: 7 loss: 6545.8857421875\n",
      "epoch: 8 loss: 11104.6728515625\n",
      "epoch: 9 loss: 18842.8671875\n",
      "epoch: 10 loss: 31977.921875\n",
      "epoch: 11 loss: 54273.69140625\n",
      "epoch: 12 loss: 92119.1171875\n",
      "epoch: 13 loss: 156358.90625\n",
      "epoch: 14 loss: 265401.15625\n",
      "epoch: 15 loss: 450492.46875\n",
      "epoch: 16 loss: 764672.0\n",
      "epoch: 17 loss: 1297967.875\n",
      "epoch: 18 loss: 2203198.0\n",
      "epoch: 19 loss: 3739757.5\n",
      "epoch: 20 loss: 6347956.0\n",
      "epoch: 21 loss: 10775180.0\n",
      "epoch: 22 loss: 18290060.0\n",
      "epoch: 23 loss: 31046010.0\n",
      "epoch: 24 loss: 52698300.0\n",
      "epoch: 25 loss: 89451416.0\n",
      "epoch: 26 loss: 151837168.0\n",
      "epoch: 27 loss: 257732320.0\n",
      "epoch: 28 loss: 437481504.0\n",
      "epoch: 29 loss: 742592768.0\n",
      "epoch: 30 loss: 1260497024.0\n",
      "epoch: 31 loss: 2139601024.0\n",
      "epoch: 32 loss: 3631814144.0\n",
      "epoch: 33 loss: 6164737536.0\n",
      "epoch: 34 loss: 10464179200.0\n",
      "epoch: 35 loss: 17762166784.0\n",
      "epoch: 36 loss: 30149976064.0\n",
      "epoch: 37 loss: 51177312256.0\n",
      "epoch: 38 loss: 86869737472.0\n",
      "epoch: 39 loss: 147454787584.0\n",
      "epoch: 40 loss: 250293649408.0\n",
      "epoch: 41 loss: 424854978560.0\n",
      "epoch: 42 loss: 721159913472.0\n",
      "epoch: 43 loss: 1224116142080.0\n",
      "epoch: 44 loss: 2077848240128.0\n",
      "epoch: 45 loss: 3526992592896.0\n",
      "epoch: 46 loss: 5986801680384.0\n",
      "epoch: 47 loss: 10162154766336.0\n",
      "epoch: 48 loss: 17249498824704.0\n",
      "epoch: 49 loss: 29279769329664.0\n",
      "epoch: 50 loss: 49700216504320.0\n",
      "epoch: 51 loss: 84362443882496.0\n",
      "epoch: 52 loss: 143199007932416.0\n",
      "epoch: 53 loss: 243069899243520.0\n",
      "epoch: 54 loss: 412593382490112.0\n",
      "epoch: 55 loss: 700346091438080.0\n",
      "epoch: 56 loss: 1188784804724736.0\n",
      "epoch: 57 loss: 2017870930247680.0\n",
      "epoch: 58 loss: 3425187563307008.0\n",
      "epoch: 59 loss: 5814001128701952.0\n",
      "epoch: 60 loss: 9868837340053504.0\n",
      "epoch: 61 loss: 1.675162873233408e+16\n",
      "epoch: 62 loss: 2.8434676364345344e+16\n",
      "epoch: 63 loss: 4.826580738532966e+16\n",
      "epoch: 64 loss: 8.192760068282778e+16\n",
      "epoch: 65 loss: 1.3906602452267827e+17\n",
      "epoch: 66 loss: 2.3605423726657536e+17\n",
      "epoch: 67 loss: 4.00684783308374e+17\n",
      "epoch: 68 loss: 6.801319169800274e+17\n",
      "epoch: 69 loss: 1.1544737401473597e+18\n",
      "epoch: 70 loss: 1.959634560295633e+18\n",
      "epoch: 71 loss: 3.326332186545619e+18\n",
      "epoch: 72 loss: 5.646199466571596e+18\n",
      "epoch: 73 loss: 9.584006353207165e+18\n",
      "epoch: 74 loss: 1.6268140948108607e+19\n",
      "epoch: 75 loss: 2.761397284782683e+19\n",
      "epoch: 76 loss: 4.6872638088928035e+19\n",
      "epoch: 77 loss: 7.956279883647576e+19\n",
      "epoch: 78 loss: 1.3505194011637737e+20\n",
      "epoch: 79 loss: 2.2924068012004108e+20\n",
      "epoch: 80 loss: 3.8911917057913546e+20\n",
      "epoch: 81 loss: 6.605005953624357e+20\n",
      "epoch: 82 loss: 1.1211502277168642e+21\n",
      "epoch: 83 loss: 1.9030687838268828e+21\n",
      "epoch: 84 loss: 3.2303166079724054e+21\n",
      "epoch: 85 loss: 5.483222618316126e+21\n",
      "epoch: 86 loss: 9.307354599756027e+21\n",
      "epoch: 87 loss: 1.5798532917223525e+22\n",
      "epoch: 88 loss: 2.6816816837366626e+22\n",
      "epoch: 89 loss: 4.5519556772894985e+22\n",
      "epoch: 90 loss: 7.726609707897446e+22\n",
      "epoch: 91 loss: 1.3115349508191116e+23\n",
      "epoch: 92 loss: 2.2262343197525465e+23\n",
      "epoch: 93 loss: 3.7788681255430493e+23\n",
      "epoch: 94 loss: 6.41434940732235e+23\n",
      "epoch: 95 loss: 1.08878808418527e+24\n",
      "epoch: 96 loss: 1.8481363424189134e+24\n",
      "epoch: 97 loss: 3.137076932065891e+24\n",
      "epoch: 98 loss: 5.324959353996487e+24\n",
      "epoch: 99 loss: 9.038725316823714e+24\n"
     ]
    }
   ],
   "source": [
    "# Loss Function\n",
    "criterion = nn.MSELoss()\n",
    "optimizer = torch.optim.SGD(linear_regression_model.parameters(), lr = 0.01)\n",
    "\n",
    "# Number of epochs (passes)\n",
    "epochs = 100\n",
    "\n",
    "# Track losses\n",
    "losses = []\n",
    "\n",
    "# Training loop\n",
    "for epoch in range(epochs):\n",
    "\t# Forward pass\n",
    "\ty_pred = linear_regression_model.forward(X)\n",
    "\n",
    "\t# Compute loss\n",
    "\tloss = criterion(y_pred, y)\n",
    "\tlosses.append(loss.item())\n",
    "\n",
    "\t# Print the epoch and loss\n",
    "\tprint('epoch:', epoch, 'loss:', loss.item())\n",
    "\t\n",
    "\t# Set the gradients to zero\n",
    "\toptimizer.zero_grad()\n",
    "\n",
    "\t# Backward pass\n",
    "\tloss.backward()\n",
    "\n",
    "\t# Update the weights\n",
    "\toptimizer.step()"
   ]
  },
  {
   "cell_type": "markdown",
   "metadata": {},
   "source": [
    "## Plot the Losses"
   ]
  },
  {
   "cell_type": "code",
   "execution_count": 17,
   "metadata": {},
   "outputs": [
    {
     "name": "stdout",
     "output_type": "stream",
     "text": [
      "[170.33042907714844, 282.6071472167969, 473.1928405761719, 796.7025146484375, 1345.840576171875, 2277.966552734375, 3860.183837890625, 6545.8857421875, 11104.6728515625, 18842.8671875, 31977.921875, 54273.69140625, 92119.1171875, 156358.90625, 265401.15625, 450492.46875, 764672.0, 1297967.875, 2203198.0, 3739757.5, 6347956.0, 10775180.0, 18290060.0, 31046010.0, 52698300.0, 89451416.0, 151837168.0, 257732320.0, 437481504.0, 742592768.0, 1260497024.0, 2139601024.0, 3631814144.0, 6164737536.0, 10464179200.0, 17762166784.0, 30149976064.0, 51177312256.0, 86869737472.0, 147454787584.0, 250293649408.0, 424854978560.0, 721159913472.0, 1224116142080.0, 2077848240128.0, 3526992592896.0, 5986801680384.0, 10162154766336.0, 17249498824704.0, 29279769329664.0, 49700216504320.0, 84362443882496.0, 143199007932416.0, 243069899243520.0, 412593382490112.0, 700346091438080.0, 1188784804724736.0, 2017870930247680.0, 3425187563307008.0, 5814001128701952.0, 9868837340053504.0, 1.675162873233408e+16, 2.8434676364345344e+16, 4.826580738532966e+16, 8.192760068282778e+16, 1.3906602452267827e+17, 2.3605423726657536e+17, 4.00684783308374e+17, 6.801319169800274e+17, 1.1544737401473597e+18, 1.959634560295633e+18, 3.326332186545619e+18, 5.646199466571596e+18, 9.584006353207165e+18, 1.6268140948108607e+19, 2.761397284782683e+19, 4.6872638088928035e+19, 7.956279883647576e+19, 1.3505194011637737e+20, 2.2924068012004108e+20, 3.8911917057913546e+20, 6.605005953624357e+20, 1.1211502277168642e+21, 1.9030687838268828e+21, 3.2303166079724054e+21, 5.483222618316126e+21, 9.307354599756027e+21, 1.5798532917223525e+22, 2.6816816837366626e+22, 4.5519556772894985e+22, 7.726609707897446e+22, 1.3115349508191116e+23, 2.2262343197525465e+23, 3.7788681255430493e+23, 6.41434940732235e+23, 1.08878808418527e+24, 1.8481363424189134e+24, 3.137076932065891e+24, 5.324959353996487e+24, 9.038725316823714e+24]\n"
     ]
    },
    {
     "data": {
      "image/png": "[encoded data removed]",
      "text/plain": [
       "<Figure size 640x480 with 1 Axes>"
      ]
     },
     "metadata": {},
     "output_type": "display_data"
    }
   ],
   "source": [
    "plt.plot(range(epochs), losses)\n",
    "print(losses)\n",
    "plt.ylabel('Loss')\n",
    "plt.xlabel('Epoch')\n",
    "plt.show()"
   ]
  },
  {
   "cell_type": "markdown",
   "metadata": {},
   "source": [
    "## Line of Best Fit"
   ]
  },
  {
   "cell_type": "code",
   "execution_count": 18,
   "metadata": {},
   "outputs": [
    {
     "data": {
      "image/png": "[encoded data removed]",
      "text/plain": [
       "<Figure size 640x480 with 1 Axes>"
      ]
     },
     "metadata": {},
     "output_type": "display_data"
    }
   ],
   "source": [
    "# Plot the trained model (line of best fit)\n",
    "plot_fit('Trained Model')"
   ]
  }
 ],
 "metadata": {
  "kernelspec": {
   "display_name": "Python 3",
   "language": "python",
   "name": "python3"
  },
  "language_info": {
   "codemirror_mode": {
    "name": "ipython",
    "version": 3
   },
   "file_extension": ".py",
   "mimetype": "text/x-python",
   "name": "python",
   "nbconvert_exporter": "python",
   "pygments_lexer": "ipython3",
   "version": "3.8.13"
  }
 },
 "nbformat": 4,
 "nbformat_minor": 2
}
